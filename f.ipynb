{
 "cells": [
  {
   "cell_type": "code",
   "execution_count": 13,
   "metadata": {},
   "outputs": [],
   "source": [
    "import jax.numpy as jnp\n",
    "from jax import jit, grad, random\n",
    "\n",
    "from jax.example_libraries import optimizers\n",
    "from jax.example_libraries import stax\n",
    "from jax.example_libraries.stax import Dense, Relu, LogSoftmax, Tanh\n",
    "\n",
    "import time\n",
    "import itertools\n",
    "\n",
    "import gym\n",
    "\n",
    "import numpy as np\n",
    "import numpy.random as npr\n",
    "import matplotlib.pyplot as plt"
   ]
  },
  {
   "cell_type": "code",
   "execution_count": 3,
   "metadata": {},
   "outputs": [
    {
     "name": "stderr",
     "output_type": "stream",
     "text": [
      "/home/alex/miniconda3/envs/ml/lib/python3.10/site-packages/gym/utils/passive_env_checker.py:233: DeprecationWarning: `np.bool8` is a deprecated alias for `np.bool_`.  (Deprecated NumPy 1.24)\n",
      "  if not isinstance(terminated, (bool, np.bool8)):\n"
     ]
    }
   ],
   "source": [
    "env = gym.make(\"CartPole-v1\", render_mode=\"human\")\n",
    "obs = env.reset()\n",
    "done = False\n",
    "\n",
    "while not done:\n",
    "    act = env.action_space.sample()\n",
    "    obs, rew, done, _, _ = env.step(act)\n",
    "    env.render()\n",
    "\n",
    "env.close()"
   ]
  },
  {
   "cell_type": "code",
   "execution_count": 4,
   "metadata": {},
   "outputs": [
    {
     "ename": "NameError",
     "evalue": "name 'predict' is not defined",
     "output_type": "error",
     "traceback": [
      "\u001b[0;31m---------------------------------------------------------------------------\u001b[0m",
      "\u001b[0;31mNameError\u001b[0m                                 Traceback (most recent call last)",
      "Cell \u001b[0;32mIn[4], line 1\u001b[0m\n\u001b[0;32m----> 1\u001b[0m predict(init_params, obs\u001b[39m.\u001b[39mreshape(\u001b[39m1\u001b[39m,\u001b[39m4\u001b[39m))\n",
      "\u001b[0;31mNameError\u001b[0m: name 'predict' is not defined"
     ]
    }
   ],
   "source": [
    "predict(init_params, obs.reshape(1,4))"
   ]
  },
  {
   "cell_type": "code",
   "execution_count": 109,
   "metadata": {},
   "outputs": [
    {
     "data": {
      "text/plain": [
       "Array([[0, 1, 0, 1, 1],\n",
       "       [0, 1, 0, 1, 1],\n",
       "       [1, 0, 1, 1, 0],\n",
       "       [0, 0, 0, 1, 0],\n",
       "       [1, 1, 1, 1, 1]], dtype=int32)"
      ]
     },
     "execution_count": 109,
     "metadata": {},
     "output_type": "execute_result"
    }
   ],
   "source": [
    "random.categorical(rng, predict(init_params, obs.reshape(1, 4)), shape=(5,5))"
   ]
  },
  {
   "cell_type": "code",
   "execution_count": 114,
   "metadata": {},
   "outputs": [
    {
     "data": {
      "text/plain": [
       "1"
      ]
     },
     "execution_count": 114,
     "metadata": {},
     "output_type": "execute_result"
    }
   ],
   "source": [
    "random.categorical(rng, predict(init_params, obs.reshape(1, 4)), shape=(1, 1)).item()"
   ]
  },
  {
   "cell_type": "code",
   "execution_count": null,
   "metadata": {},
   "outputs": [],
   "source": []
  },
  {
   "cell_type": "code",
   "execution_count": null,
   "metadata": {},
   "outputs": [],
   "source": []
  },
  {
   "cell_type": "code",
   "execution_count": 15,
   "metadata": {},
   "outputs": [],
   "source": [
    "batch_size = 4096\n",
    "step_size = 0.01"
   ]
  },
  {
   "cell_type": "code",
   "execution_count": 16,
   "metadata": {},
   "outputs": [],
   "source": [
    "rng = random.PRNGKey(0)"
   ]
  },
  {
   "cell_type": "code",
   "execution_count": 17,
   "metadata": {},
   "outputs": [],
   "source": [
    "init_random_params, predict = stax.serial(\n",
    "    Dense(32), Tanh,\n",
    "    Dense(2), LogSoftmax)"
   ]
  },
  {
   "cell_type": "code",
   "execution_count": 18,
   "metadata": {},
   "outputs": [],
   "source": [
    "opt_init, opt_update, get_params = optimizers.adam(step_size)"
   ]
  },
  {
   "cell_type": "code",
   "execution_count": 19,
   "metadata": {},
   "outputs": [],
   "source": [
    "def loss(params, batch):\n",
    "  obs, act, weights = batch # obs: (m, 4), act: (m, 2), weights: (m, 1)\n",
    "  preds = predict(params, obs) # preds = log action probs, (m, 2)\n",
    "\n",
    "  logp = jnp.sum(jnp.multiply(preds, act), axis=1, keepdims=True) # log probs des actions choisies pendant la traj. (m, 1)\n",
    "\n",
    "  return -jnp.mean(jnp.multiply(logp, weights))"
   ]
  },
  {
   "cell_type": "code",
   "execution_count": 20,
   "metadata": {},
   "outputs": [],
   "source": [
    "@jit\n",
    "def one_hot(y):\n",
    "    return jnp.array(y == (jnp.arange(2).reshape(2, 1)), dtype=jnp.float32)"
   ]
  },
  {
   "cell_type": "code",
   "execution_count": 21,
   "metadata": {},
   "outputs": [],
   "source": [
    "@jit\n",
    "def update(i, opt_state, batch):\n",
    "    params = get_params(opt_state)\n",
    "    return opt_update(i, grad(loss)(params, batch), opt_state)"
   ]
  },
  {
   "cell_type": "code",
   "execution_count": 22,
   "metadata": {},
   "outputs": [],
   "source": [
    "_, init_params = init_random_params(rng, (-1, 4))\n",
    "opt_state = opt_init(init_params)\n",
    "itercount = itertools.count()"
   ]
  },
  {
   "cell_type": "code",
   "execution_count": 23,
   "metadata": {},
   "outputs": [],
   "source": [
    "def one_epoch():\n",
    "    global opt_state\n",
    "\n",
    "    batch_obs = []\n",
    "    batch_act = []\n",
    "    batch_weights = []\n",
    "    batch_rets = []\n",
    "    batch_lens = []\n",
    "\n",
    "    rng = random.PRNGKey(0)\n",
    "\n",
    "    env = gym.make(\"CartPole-v1\")\n",
    "    obs, _ = env.reset()\n",
    "    done = False\n",
    "    ep_rews = []\n",
    "\n",
    "    while True:\n",
    "        batch_obs.append(obs.copy())\n",
    "\n",
    "        rng, key_act = random.split(rng)\n",
    "        act = random.categorical(key_act, predict(init_params, obs.reshape(1, 4)), shape=(1, 1)).item()\n",
    "\n",
    "        obs, rew, done, _, _ = env.step(act)\n",
    "\n",
    "        batch_act.append(act) #attention a la shape finale de batch_act\n",
    "        ep_rews.append(rew)\n",
    "\n",
    "        if done:\n",
    "            ep_ret = sum(ep_rews)\n",
    "            ep_len = len(ep_rews)\n",
    "            \n",
    "            batch_rets.append(ep_ret)\n",
    "            batch_lens.append(ep_len)\n",
    "\n",
    "            batch_weights += [ep_ret] * ep_len\n",
    "\n",
    "            obs, _ = env.reset()\n",
    "            done = False\n",
    "            ep_rews = []\n",
    "\n",
    "            if len(batch_obs) > batch_size:\n",
    "                break\n",
    "    \n",
    "    #print(jnp.array(batch_obs).shape)\n",
    "    #print(jnp.array(batch_act).shape)\n",
    "    #return jnp.array(batch_act)\n",
    "\n",
    "    opt_state = update(next(itercount), opt_state, (jnp.array(batch_obs), one_hot(jnp.array(batch_act)).T, jnp.array(batch_weights).reshape(-1, 1)))\n",
    "    \n",
    "    return jnp.array(batch_rets), jnp.array(batch_lens)\n",
    "        "
   ]
  },
  {
   "cell_type": "code",
   "execution_count": 24,
   "metadata": {},
   "outputs": [],
   "source": [
    "#batch_rets, batch_lens = one_epoch()"
   ]
  },
  {
   "cell_type": "code",
   "execution_count": 25,
   "metadata": {},
   "outputs": [
    {
     "name": "stderr",
     "output_type": "stream",
     "text": [
      "/home/alex/miniconda3/envs/ml/lib/python3.10/site-packages/gym/utils/passive_env_checker.py:233: DeprecationWarning: `np.bool8` is a deprecated alias for `np.bool_`.  (Deprecated NumPy 1.24)\n",
      "  if not isinstance(terminated, (bool, np.bool8)):\n"
     ]
    },
    {
     "name": "stdout",
     "output_type": "stream",
     "text": [
      "epoch:   0 \t return: 25.981 \t ep_len: 25.981\n",
      "epoch:   1 \t return: 28.366 \t ep_len: 28.366\n",
      "epoch:   2 \t return: 26.740 \t ep_len: 26.740\n",
      "epoch:   3 \t return: 25.681 \t ep_len: 25.681\n",
      "epoch:   4 \t return: 27.564 \t ep_len: 27.564\n",
      "epoch:   5 \t return: 25.619 \t ep_len: 25.619\n",
      "epoch:   6 \t return: 26.628 \t ep_len: 26.628\n",
      "epoch:   7 \t return: 28.144 \t ep_len: 28.144\n",
      "epoch:   8 \t return: 25.956 \t ep_len: 25.956\n",
      "epoch:   9 \t return: 25.146 \t ep_len: 25.146\n",
      "epoch:  10 \t return: 27.682 \t ep_len: 27.682\n",
      "epoch:  11 \t return: 27.039 \t ep_len: 27.039\n"
     ]
    },
    {
     "ename": "KeyboardInterrupt",
     "evalue": "",
     "output_type": "error",
     "traceback": [
      "\u001b[0;31m---------------------------------------------------------------------------\u001b[0m",
      "\u001b[0;31mKeyboardInterrupt\u001b[0m                         Traceback (most recent call last)",
      "Cell \u001b[0;32mIn[25], line 2\u001b[0m\n\u001b[1;32m      1\u001b[0m \u001b[39mfor\u001b[39;00m i \u001b[39min\u001b[39;00m \u001b[39mrange\u001b[39m(\u001b[39m50\u001b[39m):\n\u001b[0;32m----> 2\u001b[0m     batch_rets, batch_lens \u001b[39m=\u001b[39m one_epoch()\n\u001b[1;32m      3\u001b[0m     \u001b[39mprint\u001b[39m(\u001b[39m'\u001b[39m\u001b[39mepoch: \u001b[39m\u001b[39m%3d\u001b[39;00m\u001b[39m \u001b[39m\u001b[39m\\t\u001b[39;00m\u001b[39m return: \u001b[39m\u001b[39m%.3f\u001b[39;00m\u001b[39m \u001b[39m\u001b[39m\\t\u001b[39;00m\u001b[39m ep_len: \u001b[39m\u001b[39m%.3f\u001b[39;00m\u001b[39m'\u001b[39m\u001b[39m%\u001b[39m (i, jnp\u001b[39m.\u001b[39mmean(batch_rets), jnp\u001b[39m.\u001b[39mmean(batch_lens)))\n",
      "Cell \u001b[0;32mIn[23], line 21\u001b[0m, in \u001b[0;36mone_epoch\u001b[0;34m()\u001b[0m\n\u001b[1;32m     18\u001b[0m batch_obs\u001b[39m.\u001b[39mappend(obs\u001b[39m.\u001b[39mcopy())\n\u001b[1;32m     20\u001b[0m rng, key_act \u001b[39m=\u001b[39m random\u001b[39m.\u001b[39msplit(rng)\n\u001b[0;32m---> 21\u001b[0m act \u001b[39m=\u001b[39m random\u001b[39m.\u001b[39;49mcategorical(key_act, predict(init_params, obs\u001b[39m.\u001b[39;49mreshape(\u001b[39m1\u001b[39;49m, \u001b[39m4\u001b[39;49m)), shape\u001b[39m=\u001b[39;49m(\u001b[39m1\u001b[39;49m, \u001b[39m1\u001b[39;49m))\u001b[39m.\u001b[39mitem()\n\u001b[1;32m     23\u001b[0m obs, rew, done, _, _ \u001b[39m=\u001b[39m env\u001b[39m.\u001b[39mstep(act)\n\u001b[1;32m     25\u001b[0m batch_act\u001b[39m.\u001b[39mappend(act) \u001b[39m#attention a la shape finale de batch_act\u001b[39;00m\n",
      "File \u001b[0;32m~/miniconda3/envs/ml/lib/python3.10/site-packages/jax/_src/random.py:1483\u001b[0m, in \u001b[0;36mcategorical\u001b[0;34m(key, logits, axis, shape)\u001b[0m\n\u001b[1;32m   1481\u001b[0m logits_shape \u001b[39m=\u001b[39m \u001b[39mlist\u001b[39m(shape[\u001b[39mlen\u001b[39m(shape) \u001b[39m-\u001b[39m \u001b[39mlen\u001b[39m(batch_shape):])\n\u001b[1;32m   1482\u001b[0m logits_shape\u001b[39m.\u001b[39minsert(axis \u001b[39m%\u001b[39m \u001b[39mlen\u001b[39m(logits_arr\u001b[39m.\u001b[39mshape), logits_arr\u001b[39m.\u001b[39mshape[axis])\n\u001b[0;32m-> 1483\u001b[0m \u001b[39mreturn\u001b[39;00m jnp\u001b[39m.\u001b[39;49margmax(\n\u001b[1;32m   1484\u001b[0m     gumbel(key, (\u001b[39m*\u001b[39;49mshape_prefix, \u001b[39m*\u001b[39;49mlogits_shape), logits_arr\u001b[39m.\u001b[39;49mdtype) \u001b[39m+\u001b[39;49m\n\u001b[1;32m   1485\u001b[0m     lax\u001b[39m.\u001b[39;49mexpand_dims(logits_arr, \u001b[39mtuple\u001b[39;49m(\u001b[39mrange\u001b[39;49m(\u001b[39mlen\u001b[39;49m(shape_prefix)))),\n\u001b[1;32m   1486\u001b[0m     axis\u001b[39m=\u001b[39;49maxis)\n",
      "File \u001b[0;32m~/miniconda3/envs/ml/lib/python3.10/site-packages/jax/_src/numpy/lax_numpy.py:3517\u001b[0m, in \u001b[0;36margmax\u001b[0;34m(a, axis, out, keepdims)\u001b[0m\n\u001b[1;32m   3515\u001b[0m \u001b[39mif\u001b[39;00m out \u001b[39mis\u001b[39;00m \u001b[39mnot\u001b[39;00m \u001b[39mNone\u001b[39;00m:\n\u001b[1;32m   3516\u001b[0m   \u001b[39mraise\u001b[39;00m \u001b[39mNotImplementedError\u001b[39;00m(\u001b[39m\"\u001b[39m\u001b[39mThe \u001b[39m\u001b[39m'\u001b[39m\u001b[39mout\u001b[39m\u001b[39m'\u001b[39m\u001b[39m argument to jnp.argmax is not supported.\u001b[39m\u001b[39m\"\u001b[39m)\n\u001b[0;32m-> 3517\u001b[0m \u001b[39mreturn\u001b[39;00m _argmax(asarray(a), \u001b[39mNone\u001b[39;49;00m \u001b[39mif\u001b[39;49;00m axis \u001b[39mis\u001b[39;49;00m \u001b[39mNone\u001b[39;49;00m \u001b[39melse\u001b[39;49;00m operator\u001b[39m.\u001b[39;49mindex(axis),\n\u001b[1;32m   3518\u001b[0m                keepdims\u001b[39m=\u001b[39;49m\u001b[39mbool\u001b[39;49m(keepdims))\n",
      "\u001b[0;31mKeyboardInterrupt\u001b[0m: "
     ]
    }
   ],
   "source": [
    "for i in range(50):\n",
    "    batch_rets, batch_lens = one_epoch()\n",
    "    print('epoch: %3d \\t return: %.3f \\t ep_len: %.3f'% (i, jnp.mean(batch_rets), jnp.mean(batch_lens)))"
   ]
  },
  {
   "cell_type": "code",
   "execution_count": null,
   "metadata": {},
   "outputs": [],
   "source": []
  }
 ],
 "metadata": {
  "kernelspec": {
   "display_name": "ml",
   "language": "python",
   "name": "python3"
  },
  "language_info": {
   "codemirror_mode": {
    "name": "ipython",
    "version": 3
   },
   "file_extension": ".py",
   "mimetype": "text/x-python",
   "name": "python",
   "nbconvert_exporter": "python",
   "pygments_lexer": "ipython3",
   "version": "3.10.11"
  },
  "orig_nbformat": 4
 },
 "nbformat": 4,
 "nbformat_minor": 2
}
